#Creating delta table(MANAGED)
#1
df = spark.read.load('Files/2019.csv', format='csv', header=False)
display(df)

#2(automatic)
df = spark.read.format("csv").option("header","true").load("Files/2019.csv")
# df now is a Spark DataFrame containing CSV data from "Files/2019.csv".
display(df)
